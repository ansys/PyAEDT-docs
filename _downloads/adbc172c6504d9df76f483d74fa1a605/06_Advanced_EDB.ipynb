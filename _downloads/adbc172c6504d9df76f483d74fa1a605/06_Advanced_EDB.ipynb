{
  "cells": [
    {
      "cell_type": "code",
      "execution_count": null,
      "metadata": {
        "collapsed": false
      },
      "outputs": [],
      "source": [
        "%matplotlib inline"
      ]
    },
    {
      "cell_type": "markdown",
      "metadata": {},
      "source": [
        "\n# EDB: parametric via creation\nThis example shows how you can use EDB to create a layout.\n"
      ]
    },
    {
      "cell_type": "markdown",
      "metadata": {},
      "source": [
        "## Perform required imports\nPerform required imports.\n\n"
      ]
    },
    {
      "cell_type": "code",
      "execution_count": null,
      "metadata": {
        "collapsed": false
      },
      "outputs": [],
      "source": [
        "import os\nimport numpy as np\nfrom pyaedt import Edb\nfrom pyaedt.generic.general_methods import generate_unique_folder_name, generate_unique_name\n\n\naedb_path = os.path.join(generate_unique_folder_name(), generate_unique_name(\"via_opt\") + \".aedb\")"
      ]
    },
    {
      "cell_type": "markdown",
      "metadata": {},
      "source": [
        "## Create stackup\nThe ``StackupSimple`` class creates a stackup based on few inputs. This stackup\nis used later.\n\n"
      ]
    },
    {
      "cell_type": "markdown",
      "metadata": {},
      "source": [
        "## Create ground plane\nCreate a ground plane on specific layers.\n\n"
      ]
    },
    {
      "cell_type": "code",
      "execution_count": null,
      "metadata": {
        "collapsed": false
      },
      "outputs": [],
      "source": [
        "def _create_ground_planes(edb, layers):\n    plane = edb.core_primitives.Shape(\"rectangle\", pointA=[\"-3mm\", \"-3mm\"], pointB=[\"3mm\", \"3mm\"])\n    for i in layers:\n        edb.core_primitives.create_polygon(plane, i, net_name=\"GND\")"
      ]
    },
    {
      "cell_type": "markdown",
      "metadata": {},
      "source": [
        "## Create EDB\nCreate EDB. If the path doesn't exist, PyAEDT automatically generates a new AEDB folder.\n\n"
      ]
    },
    {
      "cell_type": "code",
      "execution_count": null,
      "metadata": {
        "collapsed": false
      },
      "outputs": [],
      "source": [
        "edb = Edb(edbpath=aedb_path, edbversion=\"2022.2\")"
      ]
    },
    {
      "cell_type": "markdown",
      "metadata": {},
      "source": [
        "## Create stackup layers\nCreate stackup layers.\n\n"
      ]
    },
    {
      "cell_type": "code",
      "execution_count": null,
      "metadata": {
        "collapsed": false
      },
      "outputs": [],
      "source": [
        "layout_count = 12\ndiel_material_name = \"FR4_epoxy\"\ndiel_thickness = \"0.15mm\"\ncond_thickness_outer = \"0.05mm\"\ncond_thickness_inner = \"0.017mm\"\nsoldermask_thickness = \"0.05mm\"\ntrace_in_layer = \"TOP\"\ntrace_out_layer = \"L10\"\ngvia_num = 10\ngvia_angle = 30\nedb.stackup.create_symmetric_stackup(layer_count=layout_count, inner_layer_thickness=cond_thickness_inner, outer_layer_thickness=cond_thickness_outer, soldermask_thickness=soldermask_thickness,dielectric_thickness=diel_thickness, dielectric_material=diel_material_name )\n\n# StackupSimple(\n#     edb,\n#     layer_count=layout_count,\n#     diel_material_name=diel_material_name,\n#     diel_thickness=diel_thickness,\n#     cond_thickness_outer=cond_thickness_outer,\n#     cond_thickness_inner=cond_thickness_inner,\n#     soldermask_thickness=soldermask_thickness,\n# ).create_stackup()"
      ]
    },
    {
      "cell_type": "markdown",
      "metadata": {},
      "source": [
        "## Create variables\nCreate all variables. If a variable has a ``$`` prefix, it is a project variable.\nOtherwise, is a design variable.\n\n"
      ]
    },
    {
      "cell_type": "code",
      "execution_count": null,
      "metadata": {
        "collapsed": false
      },
      "outputs": [],
      "source": [
        "giva_angle_rad = gvia_angle / 180 * np.pi\n\nedb.add_design_variable(\"$via_hole_size\", \"0.3mm\")\nedb.add_design_variable(\"$antipaddiam\", \"0.7mm\")\nedb.add_design_variable(\"$paddiam\", \"0.5mm\")\nedb.add_design_variable(\"via_pitch\", \"1mm\", is_parameter=True)\nedb.add_design_variable(\"trace_in_width\", \"0.2mm\", is_parameter=True)\nedb.add_design_variable(\"trace_out_width\", \"0.1mm\", is_parameter=True)"
      ]
    },
    {
      "cell_type": "markdown",
      "metadata": {},
      "source": [
        "## Create padstacks\nCreate two padstacks, one for the ground and one for the signal. The padstacks\nare parametric.\n\n"
      ]
    },
    {
      "cell_type": "code",
      "execution_count": null,
      "metadata": {
        "collapsed": false
      },
      "outputs": [],
      "source": [
        "edb.core_padstack.create_padstack(\n    padstackname=\"SVIA\", holediam=\"$via_hole_size\", antipaddiam=\"$antipaddiam\", paddiam=\"$paddiam\"\n)\nedb.core_padstack.create_padstack(padstackname=\"GVIA\", holediam=\"0.3mm\", antipaddiam=\"0.7mm\", paddiam=\"0.5mm\")"
      ]
    },
    {
      "cell_type": "markdown",
      "metadata": {},
      "source": [
        "## Place padstack for signal\nPlace the padstack for the signal.\n\n"
      ]
    },
    {
      "cell_type": "code",
      "execution_count": null,
      "metadata": {
        "collapsed": false
      },
      "outputs": [],
      "source": [
        "edb.core_padstack.place_padstack([0, 0], \"SVIA\", net_name=\"RF\", fromlayer=trace_in_layer, tolayer=trace_out_layer)"
      ]
    },
    {
      "cell_type": "markdown",
      "metadata": {},
      "source": [
        "## Place padstack for ground\nPlace the padstack for the  ground. A loop iterates and places multiple ground\nvias on different positions.\n\n"
      ]
    },
    {
      "cell_type": "code",
      "execution_count": null,
      "metadata": {
        "collapsed": false
      },
      "outputs": [],
      "source": [
        "gvia_num_side = gvia_num / 2\n\nif gvia_num_side % 2:\n\n    # Even number of ground vias on each side\n    edb.core_padstack.place_padstack([\"via_pitch\", 0], \"GVIA\", net_name=\"GND\")\n    edb.core_padstack.place_padstack([\"via_pitch*-1\", 0], \"GVIA\", net_name=\"GND\")\n    for i in np.arange(1, gvia_num_side / 2):\n        xloc = \"{}*{}\".format(np.cos(giva_angle_rad * i), \"via_pitch\")\n        yloc = \"{}*{}\".format(np.sin(giva_angle_rad * i), \"via_pitch\")\n        edb.core_padstack.place_padstack([xloc, yloc], \"GVIA\", net_name=\"GND\")\n        edb.core_padstack.place_padstack([xloc, yloc + \"*-1\"], \"GVIA\", net_name=\"GND\")\n\n        edb.core_padstack.place_padstack([xloc + \"*-1\", yloc], \"GVIA\", net_name=\"GND\")\n        edb.core_padstack.place_padstack([xloc + \"*-1\", yloc + \"*-1\"], \"GVIA\", net_name=\"GND\")\nelse:\n\n    # Odd number of ground vias on each side\n    for i in np.arange(0, gvia_num_side / 2):\n        xloc = \"{}*{}\".format(np.cos(giva_angle_rad * (i + 0.5)), \"via_pitch\")\n        yloc = \"{}*{}\".format(np.sin(giva_angle_rad * (i + 0.5)), \"via_pitch\")\n        edb.core_padstack.place_padstack([xloc, yloc], \"GVIA\", net_name=\"GND\")\n        edb.core_padstack.place_padstack([xloc, yloc + \"*-1\"], \"GVIA\", net_name=\"GND\")\n\n        edb.core_padstack.place_padstack([xloc + \"*-1\", yloc], \"GVIA\", net_name=\"GND\")\n        edb.core_padstack.place_padstack([xloc + \"*-1\", yloc + \"*-1\"], \"GVIA\", net_name=\"GND\")"
      ]
    },
    {
      "cell_type": "markdown",
      "metadata": {},
      "source": [
        "## Generate traces\nGenerate and place parametric traces.\n\n"
      ]
    },
    {
      "cell_type": "code",
      "execution_count": null,
      "metadata": {
        "collapsed": false
      },
      "outputs": [],
      "source": [
        "path = edb.core_primitives.Shape(\"polygon\", points=[[0, 0], [0, \"-3mm\"]])\nedb.core_primitives.create_path(\n    path, layer_name=trace_in_layer, net_name=\"RF\", width=\"trace_in_width\", start_cap_style=\"Flat\", end_cap_style=\"Flat\"\n)\n\npath = edb.core_primitives.Shape(\"polygon\", points=[[0, 0], [0, \"3mm\"]])\nedb.core_primitives.create_path(\n    path,\n    layer_name=trace_out_layer,\n    net_name=\"RF\",\n    width=\"trace_out_width\",\n    start_cap_style=\"Flat\",\n    end_cap_style=\"Flat\",\n)"
      ]
    },
    {
      "cell_type": "markdown",
      "metadata": {},
      "source": [
        "## Generate ground layers\nGenerate and place ground layers.\n\n"
      ]
    },
    {
      "cell_type": "code",
      "execution_count": null,
      "metadata": {
        "collapsed": false
      },
      "outputs": [],
      "source": [
        "ground_layers = [i for i in edb.stackup.signal_layers.keys()]\nground_layers.remove(trace_in_layer)\nground_layers.remove(trace_out_layer)\n_create_ground_planes(edb=edb, layers=ground_layers)"
      ]
    },
    {
      "cell_type": "markdown",
      "metadata": {},
      "source": [
        "## Save EDB and close\nSave EDB and close.\n\n"
      ]
    },
    {
      "cell_type": "code",
      "execution_count": null,
      "metadata": {
        "collapsed": false
      },
      "outputs": [],
      "source": [
        "edb.save_edb()\nedb.close_edb()\n\nprint(\"aedb Saved in {}\".format(aedb_path))"
      ]
    }
  ],
  "metadata": {
    "kernelspec": {
      "display_name": "Python 3",
      "language": "python",
      "name": "python3"
    },
    "language_info": {
      "codemirror_mode": {
        "name": "ipython",
        "version": 3
      },
      "file_extension": ".py",
      "mimetype": "text/x-python",
      "name": "python",
      "nbconvert_exporter": "python",
      "pygments_lexer": "ipython3",
      "version": "3.8.10"
    }
  },
  "nbformat": 4,
  "nbformat_minor": 0
}