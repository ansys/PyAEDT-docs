{
  "cells": [
    {
      "cell_type": "code",
      "execution_count": null,
      "metadata": {
        "collapsed": false
      },
      "outputs": [],
      "source": [
        "%matplotlib inline"
      ]
    },
    {
      "cell_type": "markdown",
      "metadata": {},
      "source": [
        "\n# EMIT: HFSS to EMIT coupling\nThis example shows how you can use PyAEDT to open an AEDT project with\nan HFSS design, create an EMIT design in the project, and link the HFSS design\nas a coupling link in the EMIT design.\n"
      ]
    },
    {
      "cell_type": "markdown",
      "metadata": {},
      "source": [
        "## Perform required imports\nPerform required imports.\n\n"
      ]
    },
    {
      "cell_type": "code",
      "execution_count": null,
      "metadata": {
        "collapsed": false
      },
      "outputs": [],
      "source": [
        "import os\nimport tempfile\n\n# Import required modules\nfrom pyaedt.generic.filesystem import Scratch\n\nfrom pyaedt import Emit\nfrom pyaedt import Desktop"
      ]
    },
    {
      "cell_type": "markdown",
      "metadata": {},
      "source": [
        "# Set non-graphical mode\n ~~~~~~~~~~~~~~~~~~~~~~\n Set non-graphical mode. ``\"PYAEDT_NON_GRAPHICAL\"`` is needed to generate\n documentation only.\n You can set ``non_graphical`` either to ``True`` or ``False``.\n The Boolean parameter ``new_thread`` defines whether to create a new instance\n of AEDT or try to connect to an existing instance of it.\n\n The following code uses AEDT 2022 R2.\n\n"
      ]
    },
    {
      "cell_type": "code",
      "execution_count": null,
      "metadata": {
        "collapsed": false
      },
      "outputs": [],
      "source": [
        "non_graphical = os.getenv(\"PYAEDT_NON_GRAPHICAL\", \"False\").lower() in (\"true\", \"1\", \"t\")\nNewThread = True\ndesktop_version = \"2022.2\"\nscratch_path = tempfile.gettempdir()"
      ]
    },
    {
      "cell_type": "markdown",
      "metadata": {},
      "source": [
        "## Launch AEDT with EMIT\nLaunch AEDT with EMIT. The ``Desktop`` class initializes AEDT and starts it\non the specified version and in the specified graphical mode.\n\n"
      ]
    },
    {
      "cell_type": "code",
      "execution_count": null,
      "metadata": {
        "collapsed": false
      },
      "outputs": [],
      "source": [
        "d = Desktop(desktop_version, non_graphical, NewThread)\n\ntemp_folder = os.path.join(scratch_path, (\"EmitHFSSExample\"))\nif not os.path.exists(temp_folder):\n    os.mkdir(temp_folder)\n\nexample_name = \"Cell Phone RFI Desense\"\nexample_aedt = example_name + \".aedt\"\nexample_lock = example_aedt + \".lock\"\nexample_pdf_file = example_name + \" Example.pdf\"\n\nexample_dir = os.path.join(d.install_path, \"Examples\\\\EMIT\")\nexample_project = os.path.join(example_dir, example_aedt)\nexample_pdf = os.path.join(example_dir, example_pdf_file)\n\n# If the ``Cell Phone RFT Defense`` example is not in the installation directory, exit from this example.\nif not os.path.exists(example_project):\n    msg = \"\"\"\n        Cell phone RFT Desense example file is not in the\n         Examples/EMIT directory under the EDT installation. You cannot run this example.\n        \"\"\"\n    print(msg)\n    d.release_desktop(True, True)\n    exit()\n\nmy_project = os.path.join(temp_folder, example_aedt)\nmy_project_lock = os.path.join(temp_folder, example_lock)\nmy_project_pdf = os.path.join(temp_folder, example_pdf_file)\n\nif os.path.exists(my_project):\n    os.remove(my_project)\n\nif os.path.exists(my_project_lock):\n    os.remove(my_project_lock)\n\nwith Scratch(scratch_path) as local_scratch:\n    local_scratch.copyfile(example_project, my_project)\n    if os.path.exists(example_pdf):\n        local_scratch.copyfile(example_pdf, my_project_pdf)\n\naedtapp = Emit(my_project)"
      ]
    },
    {
      "cell_type": "markdown",
      "metadata": {},
      "source": [
        "## Create and connect EMIT components\nCreate three radios and connect an antenna to each one.\n\n"
      ]
    },
    {
      "cell_type": "code",
      "execution_count": null,
      "metadata": {
        "collapsed": false
      },
      "outputs": [],
      "source": [
        "rad1 = aedtapp.modeler.components.create_component(\"UE - Handheld\")\nant1 = aedtapp.modeler.components.create_component(\"Antenna\")\nif rad1 and ant1:\n    ant1.move_and_connect_to(rad1)\n\nrad2 = aedtapp.modeler.components.create_component(\"GPS Receiver\")\nant2 = aedtapp.modeler.components.create_component(\"Antenna\")\nif rad2 and ant2:\n    ant2.move_and_connect_to(rad2)"
      ]
    },
    {
      "cell_type": "markdown",
      "metadata": {},
      "source": [
        "## Define coupling among RF systems\nDefine coupling among the RF systems.\n\n"
      ]
    },
    {
      "cell_type": "code",
      "execution_count": null,
      "metadata": {
        "collapsed": false
      },
      "outputs": [],
      "source": [
        "for link in aedtapp.couplings.linkable_design_names:\n    aedtapp.couplings.add_link(link)\n\nfor link in aedtapp.couplings.coupling_names:\n    aedtapp.couplings.update_link(link)"
      ]
    },
    {
      "cell_type": "markdown",
      "metadata": {},
      "source": [
        "## Run EMIT simulation\nRun the EMIT simulation. This portion of the EMIT API is not yet implemented.\n\n"
      ]
    },
    {
      "cell_type": "markdown",
      "metadata": {},
      "source": [
        "## Save project and close AEDT\nAfter the simulation completes, you can close AEDT or release it using the\n:func:`pyaedt.Desktop.force_close_desktop` method.\nAll methods provide for saving the project before closing.\n\n"
      ]
    },
    {
      "cell_type": "code",
      "execution_count": null,
      "metadata": {
        "collapsed": false
      },
      "outputs": [],
      "source": [
        "aedtapp.save_project()\naedtapp.release_desktop(close_projects=True, close_desktop=True)"
      ]
    }
  ],
  "metadata": {
    "kernelspec": {
      "display_name": "Python 3",
      "language": "python",
      "name": "python3"
    },
    "language_info": {
      "codemirror_mode": {
        "name": "ipython",
        "version": 3
      },
      "file_extension": ".py",
      "mimetype": "text/x-python",
      "name": "python",
      "nbconvert_exporter": "python",
      "pygments_lexer": "ipython3",
      "version": "3.8.10"
    }
  },
  "nbformat": 4,
  "nbformat_minor": 0
}