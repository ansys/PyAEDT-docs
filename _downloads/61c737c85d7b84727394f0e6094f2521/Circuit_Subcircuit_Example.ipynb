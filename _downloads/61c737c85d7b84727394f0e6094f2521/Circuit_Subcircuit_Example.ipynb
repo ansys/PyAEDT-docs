{
  "cells": [
    {
      "cell_type": "code",
      "execution_count": null,
      "metadata": {
        "collapsed": false
      },
      "outputs": [],
      "source": [
        "%matplotlib inline"
      ]
    },
    {
      "cell_type": "markdown",
      "metadata": {},
      "source": [
        "\n# Circuit: schematic subcircuit management\nThis example shows how you can use PyAEDT to add a subcircuit to a circuit design.\nIt pushes down the child subcircuit and pops up to the parent design.\n"
      ]
    },
    {
      "cell_type": "markdown",
      "metadata": {},
      "source": [
        "## Perform required import\nPerform the required import.\n\n"
      ]
    },
    {
      "cell_type": "code",
      "execution_count": null,
      "metadata": {
        "collapsed": false
      },
      "outputs": [],
      "source": [
        "import os\nfrom pyaedt import Circuit\nfrom pyaedt import generate_unique_project_name"
      ]
    },
    {
      "cell_type": "markdown",
      "metadata": {},
      "source": [
        "## Set non-graphical mode\nSet non-graphical mode. ``\"PYAEDT_NON_GRAPHICAL\"``` is needed to generate\ndocumentation only.\nYou can set ``non_graphical`` either to ``True`` or ``False``.\n\n"
      ]
    },
    {
      "cell_type": "code",
      "execution_count": null,
      "metadata": {
        "collapsed": false
      },
      "outputs": [],
      "source": [
        "non_graphical = os.getenv(\"PYAEDT_NON_GRAPHICAL\", \"False\").lower() in (\"true\", \"1\", \"t\")"
      ]
    },
    {
      "cell_type": "markdown",
      "metadata": {},
      "source": [
        "## Launch AEDT with Circuit\nLaunch AEDT 2022 R2 in graphical mode with Circuit.\n\n"
      ]
    },
    {
      "cell_type": "code",
      "execution_count": null,
      "metadata": {
        "collapsed": false
      },
      "outputs": [],
      "source": [
        "circuit = Circuit(projectname=generate_unique_project_name(), specified_version=\"2022.2\", non_graphical=non_graphical, new_desktop_session=True)"
      ]
    },
    {
      "cell_type": "markdown",
      "metadata": {},
      "source": [
        "## Add subcircuit\nAdd a new subcircuit to the previously created circuit design, creating a\nchild circuit. Push this child circuit down into the child subcircuit.\n\n"
      ]
    },
    {
      "cell_type": "code",
      "execution_count": null,
      "metadata": {
        "collapsed": false
      },
      "outputs": [],
      "source": [
        "subcircuit = circuit.modeler.schematic.create_subcircuit([0.0, 0.0])\nsubcircuit_name = subcircuit.composed_name\ncircuit.push_down(subcircuit)"
      ]
    },
    {
      "cell_type": "markdown",
      "metadata": {},
      "source": [
        "## Parametrize subcircuit\nParametrize the subcircuit and add a resistor, inductor, and a capacitor with\nthe parameter values in the following code example. Connect them in series\nand then use the ``pop_up`` # method to get back to the parent design.\n\n"
      ]
    },
    {
      "cell_type": "code",
      "execution_count": null,
      "metadata": {
        "collapsed": false
      },
      "outputs": [],
      "source": [
        "circuit.variable_manager.set_variable(\"R_val\", \"35ohm\")\ncircuit.variable_manager.set_variable(\"L_val\", \"1e-7H\")\ncircuit.variable_manager.set_variable(\"C_val\", \"5e-10F\")\np1 = circuit.modeler.schematic.create_interface_port(\"In\")\nr1 = circuit.modeler.schematic.create_resistor(value=\"R_val\")\nl1 = circuit.modeler.schematic.create_inductor(value=\"L_val\")\nc1 = circuit.modeler.schematic.create_capacitor(value=\"C_val\")\np2 = circuit.modeler.schematic.create_interface_port(\"Out\")\ncircuit.modeler.schematic.connect_components_in_series([p1, r1, l1, c1, p2])\ncircuit.pop_up()"
      ]
    },
    {
      "cell_type": "markdown",
      "metadata": {},
      "source": [
        "## Duplicate subcircuit\nDuplicate the previously created subcircuit and set a new parameter value.\nThis works only in graphical mode.\n\n"
      ]
    },
    {
      "cell_type": "code",
      "execution_count": null,
      "metadata": {
        "collapsed": false
      },
      "outputs": [],
      "source": [
        "if not non_graphical:\n    new_comp = circuit.modeler.schematic.duplicate(subcircuit_name, [0.0512, 0])\n    new_comp.parameters[\"R_val\"] = \"75ohm\""
      ]
    },
    {
      "cell_type": "markdown",
      "metadata": {},
      "source": [
        "## Release AEDT\nRelease AEDT.\n\n"
      ]
    },
    {
      "cell_type": "code",
      "execution_count": null,
      "metadata": {
        "collapsed": false
      },
      "outputs": [],
      "source": [
        "circuit.release_desktop(True, True)"
      ]
    }
  ],
  "metadata": {
    "kernelspec": {
      "display_name": "Python 3",
      "language": "python",
      "name": "python3"
    },
    "language_info": {
      "codemirror_mode": {
        "name": "ipython",
        "version": 3
      },
      "file_extension": ".py",
      "mimetype": "text/x-python",
      "name": "python",
      "nbconvert_exporter": "python",
      "pygments_lexer": "ipython3",
      "version": "3.8.10"
    }
  },
  "nbformat": 4,
  "nbformat_minor": 0
}