{
  "cells": [
    {
      "cell_type": "code",
      "execution_count": null,
      "metadata": {
        "collapsed": false
      },
      "outputs": [],
      "source": [
        "%matplotlib inline"
      ]
    },
    {
      "cell_type": "markdown",
      "metadata": {},
      "source": [
        "\n# Circuit: Touchstone file management\nThis example shows how you can use objects in a Touchstone file without opening AEDT.\n\nTo provide the advanced postprocessing features needed for this example, Matplotlib and NumPy\nmust be installed on your machine.\n\nThis example runs only on Windows using CPython.\n"
      ]
    },
    {
      "cell_type": "markdown",
      "metadata": {},
      "source": [
        "## Perform required imports\nPerform required imports and set the local path to the path for PyAEDT.\n\n"
      ]
    },
    {
      "cell_type": "code",
      "execution_count": null,
      "metadata": {
        "collapsed": false
      },
      "outputs": [],
      "source": [
        "from pyaedt import examples\n\nexample_path = examples.download_touchstone()"
      ]
    },
    {
      "cell_type": "markdown",
      "metadata": {},
      "source": [
        "## Import libraries and Touchstone file\nImport Matplotlib, NumPy, and the Touchstone file.\n\n"
      ]
    },
    {
      "cell_type": "code",
      "execution_count": null,
      "metadata": {
        "collapsed": false
      },
      "outputs": [],
      "source": [
        "import matplotlib.pyplot as plt\nimport numpy as np\nfrom pyaedt.generic.TouchstoneParser import (\n    read_touchstone,\n    get_return_losses,\n    get_insertion_losses_from_prefix,\n    get_fext_xtalk_from_prefix,\n    get_next_xtalk,\n    get_worst_curve_from_solution_data,\n)"
      ]
    },
    {
      "cell_type": "markdown",
      "metadata": {},
      "source": [
        "## Read Touchstone file\nRead the Touchstone file.\n\n"
      ]
    },
    {
      "cell_type": "code",
      "execution_count": null,
      "metadata": {
        "collapsed": false
      },
      "outputs": [],
      "source": [
        "data = read_touchstone(example_path)"
      ]
    },
    {
      "cell_type": "markdown",
      "metadata": {},
      "source": [
        "## Get curve names\nGet the curve names. The following code shows how to get lists of the return losses,\ninsertion losses, fext, and next based on a few inputs and port names.\n\n"
      ]
    },
    {
      "cell_type": "code",
      "execution_count": null,
      "metadata": {
        "collapsed": false
      },
      "outputs": [],
      "source": [
        "rl_list = get_return_losses(data.ports)\nil_list = get_insertion_losses_from_prefix(data.ports, \"U1\", \"U7\")\nfext_list = get_fext_xtalk_from_prefix(data.ports, \"U1\", \"U7\")\nnext_list = get_next_xtalk(data.ports, \"U1\")"
      ]
    },
    {
      "cell_type": "markdown",
      "metadata": {},
      "source": [
        "## Get curve worst cases\nGet curve worst cases.\n\n"
      ]
    },
    {
      "cell_type": "code",
      "execution_count": null,
      "metadata": {
        "collapsed": false
      },
      "outputs": [],
      "source": [
        "worst_rl, global_mean = get_worst_curve_from_solution_data(\n    data, freq_min=1, freq_max=20, worst_is_higher=True, curve_list=rl_list\n)\nworst_il, mean2 = get_worst_curve_from_solution_data(\n    data, freq_min=1, freq_max=20, worst_is_higher=False, curve_list=il_list\n)\nworst_fext, mean3 = get_worst_curve_from_solution_data(\n    data, freq_min=1, freq_max=20, worst_is_higher=True, curve_list=fext_list\n)\nworst_next, mean4 = get_worst_curve_from_solution_data(\n    data, freq_min=1, freq_max=20, worst_is_higher=True, curve_list=next_list\n)"
      ]
    },
    {
      "cell_type": "markdown",
      "metadata": {},
      "source": [
        "## Plot curves using Matplotlib\nPlot the curves using Matplotlib.\n\n"
      ]
    },
    {
      "cell_type": "code",
      "execution_count": null,
      "metadata": {
        "collapsed": false
      },
      "outputs": [],
      "source": [
        "fig, ax = plt.subplots(figsize=(20, 10))\nax.set(xlabel=\"Frequency (Hz)\", ylabel=\"Return Loss (dB)\", title=\"Return Loss\")\nax.grid()\nmag_data = 20 * np.log10(np.array(data.solutions_data_mag[worst_rl]))\nfreq_data = np.array([i * 1e9 for i in data.sweeps[\"Freq\"]])\nax.plot(freq_data, mag_data, label=worst_rl)\nmag_data2 = 20 * np.log10(np.array(data.solutions_data_mag[worst_il]))\nax.plot(freq_data, mag_data2, label=worst_il)\nmag_data3 = 20 * np.log10(np.array(data.solutions_data_mag[worst_fext]))\nax.plot(freq_data, mag_data3, label=worst_fext)\nmag_data4 = 20 * np.log10(np.array(data.solutions_data_mag[worst_next]))\nax.plot(freq_data, mag_data4, label=worst_next)\nax.legend(\n    [\"Worst RL = \" + worst_rl, \"Worst IL = \" + worst_il, \"Worst FEXT = \" + worst_fext, \"Worst NEXT = \" + worst_next]\n)\nplt.show()"
      ]
    }
  ],
  "metadata": {
    "kernelspec": {
      "display_name": "Python 3",
      "language": "python",
      "name": "python3"
    },
    "language_info": {
      "codemirror_mode": {
        "name": "ipython",
        "version": 3
      },
      "file_extension": ".py",
      "mimetype": "text/x-python",
      "name": "python",
      "nbconvert_exporter": "python",
      "pygments_lexer": "ipython3",
      "version": "3.8.10"
    }
  },
  "nbformat": 4,
  "nbformat_minor": 0
}