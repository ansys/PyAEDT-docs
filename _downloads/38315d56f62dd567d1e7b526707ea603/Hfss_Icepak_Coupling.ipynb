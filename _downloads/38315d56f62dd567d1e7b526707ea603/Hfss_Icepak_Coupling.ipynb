{
  "cells": [
    {
      "cell_type": "code",
      "execution_count": null,
      "metadata": {
        "collapsed": false
      },
      "outputs": [],
      "source": [
        "%matplotlib inline"
      ]
    },
    {
      "cell_type": "markdown",
      "metadata": {},
      "source": [
        "\n# Multiphysics: HFSS-Icepak multiphysics analysis\nThis example shows how you can create a project from scratch in HFSS and Icepak (linked to HFSS).\nThis includes creating a setup, solving it, and creating postprocessing outputs.\n\nTo provide the advanced postprocessing features needed for this example, the ``numpy``,\n``matplotlib``, and ``pyvista`` packages must be installed on the machine.\n\nThis examples runs only on Windows using CPython.\n"
      ]
    },
    {
      "cell_type": "markdown",
      "metadata": {},
      "source": [
        "## Perform required imports\nPerform required imports.\n\n"
      ]
    },
    {
      "cell_type": "code",
      "execution_count": null,
      "metadata": {
        "collapsed": false
      },
      "outputs": [],
      "source": [
        "import os\nimport sys\nfrom pyaedt import generate_unique_project_name\n\nfrom pyaedt.generic.constants import GLOBALCS\nfrom pyaedt import Hfss\nfrom pyaedt import Icepak"
      ]
    },
    {
      "cell_type": "markdown",
      "metadata": {},
      "source": [
        "## Set non-graphical mode\nSet non-graphical mode. ``\"PYAEDT_NON_GRAPHICAL\"`` is needed to generate\ndocumentation only.\nYou can set ``non_graphical`` either to ``True`` or ``False``.\n\n"
      ]
    },
    {
      "cell_type": "code",
      "execution_count": null,
      "metadata": {
        "collapsed": false
      },
      "outputs": [],
      "source": [
        "non_graphical = os.getenv(\"PYAEDT_NON_GRAPHICAL\", \"False\").lower() in (\"true\", \"1\", \"t\")\ndesktopVersion = \"2022.2\""
      ]
    },
    {
      "cell_type": "markdown",
      "metadata": {},
      "source": [
        "## Open project\nOpen the project.\n\n"
      ]
    },
    {
      "cell_type": "code",
      "execution_count": null,
      "metadata": {
        "collapsed": false
      },
      "outputs": [],
      "source": [
        "NewThread = True\n\nproject_file = generate_unique_project_name()"
      ]
    },
    {
      "cell_type": "markdown",
      "metadata": {},
      "source": [
        "## Launch AEDT and initialize HFSS\nLaunch AEDT and initialize HFSS. If there is an active HFSS design, the ``aedtapp``\nobject is linked to it. Otherwise, a new design is created.\n\n"
      ]
    },
    {
      "cell_type": "code",
      "execution_count": null,
      "metadata": {
        "collapsed": false
      },
      "outputs": [],
      "source": [
        "aedtapp = Hfss(projectname=project_file, specified_version=desktopVersion, non_graphical=non_graphical, new_desktop_session=NewThread)"
      ]
    },
    {
      "cell_type": "markdown",
      "metadata": {},
      "source": [
        "## Initialize variable settings\nInitialize variable settings. You can initialize a variable simply by creating\nit as a list object. If you enter the prefix ``$``, the variable is created for\nthe project. Otherwise, the variable is created for the design.\n\n"
      ]
    },
    {
      "cell_type": "code",
      "execution_count": null,
      "metadata": {
        "collapsed": false
      },
      "outputs": [],
      "source": [
        "aedtapp[\"$coax_dimension\"] = \"100mm\"\nudp = aedtapp.modeler.Position(0, 0, 0)\naedtapp[\"inner\"] = \"3mm\""
      ]
    },
    {
      "cell_type": "markdown",
      "metadata": {},
      "source": [
        "## Create coaxial and cylinders\nCreate a coaxial and three cylinders. You can apply parameters\ndirectly using the :func:`pyaedt.modeler.Primitives3D.Primitives3D.create_cylinder`\nmethod. You can assign a material directly to the object creation action.\nOptionally, you can assign a material using the :func:`assign_material` method.\n\n"
      ]
    },
    {
      "cell_type": "code",
      "execution_count": null,
      "metadata": {
        "collapsed": false
      },
      "outputs": [],
      "source": [
        "# TODO: How does this work when two truesurfaces are defined?\no1 = aedtapp.modeler.create_cylinder(aedtapp.PLANE.ZX, udp, \"inner\", \"$coax_dimension\", numSides=0, name=\"inner\")\no2 = aedtapp.modeler.create_cylinder(aedtapp.PLANE.ZX, udp, 8, \"$coax_dimension\", numSides=0, matname=\"teflon_based\")\no3 = aedtapp.modeler.create_cylinder(aedtapp.PLANE.ZX, udp, 10, \"$coax_dimension\", numSides=0, name=\"outer\")"
      ]
    },
    {
      "cell_type": "markdown",
      "metadata": {},
      "source": [
        "## Assign colors\nAssign colors to each primitive.\n\n"
      ]
    },
    {
      "cell_type": "code",
      "execution_count": null,
      "metadata": {
        "collapsed": false
      },
      "outputs": [],
      "source": [
        "o1.color = (255, 0, 0)\no2.color = (0, 255, 0)\no3.color = (255, 0, 0)\no3.transparency = 0.8\naedtapp.modeler.fit_all()"
      ]
    },
    {
      "cell_type": "markdown",
      "metadata": {},
      "source": [
        "## Assign materials\nAssign materials. You can assign materials either directly when creating the primitive,\nwhich was done for ``id2``, or after the object is created.\n\n"
      ]
    },
    {
      "cell_type": "code",
      "execution_count": null,
      "metadata": {
        "collapsed": false
      },
      "outputs": [],
      "source": [
        "o1.material_name = \"Copper\"\no3.material_name = \"Copper\""
      ]
    },
    {
      "cell_type": "markdown",
      "metadata": {},
      "source": [
        "## Perform modeler operations\nPerform modeler operations. You can subtract, add, and perform other operations\nusing either the object ID or object name.\n\n"
      ]
    },
    {
      "cell_type": "code",
      "execution_count": null,
      "metadata": {
        "collapsed": false
      },
      "outputs": [],
      "source": [
        "aedtapp.modeler.subtract(o3, o2, True)\naedtapp.modeler.subtract(o2, o1, True)"
      ]
    },
    {
      "cell_type": "markdown",
      "metadata": {},
      "source": [
        "## Perform mesh operations\nPerform mesh operations. Most mesh operations are available.\nAfter a mesh is created, you can access a mesh operation to\nedit or review parameter values.\n\n"
      ]
    },
    {
      "cell_type": "code",
      "execution_count": null,
      "metadata": {
        "collapsed": false
      },
      "outputs": [],
      "source": [
        "aedtapp.mesh.assign_initial_mesh_from_slider(6)\naedtapp.mesh.assign_model_resolution([o1.name, o3.name], None)\naedtapp.mesh.assign_length_mesh(o2.faces, False, 1, 2000)"
      ]
    },
    {
      "cell_type": "markdown",
      "metadata": {},
      "source": [
        "## Create excitations\nCreate excitations. The ``create_wave_port_between_objects`` method automatically\nidentifies the closest faces on a predefined direction and creates a sheet to cover\nthe faces. It also assigns a port to this face. If ``add_pec_cap=True``, the method\ncreates a PEC cap.\n\n"
      ]
    },
    {
      "cell_type": "code",
      "execution_count": null,
      "metadata": {
        "collapsed": false
      },
      "outputs": [],
      "source": [
        "aedtapp.create_wave_port_between_objects(\"inner\", \"outer\", axisdir=1, add_pec_cap=True, portname=\"P1\")\naedtapp.create_wave_port_between_objects(\"inner\", \"outer\", axisdir=4, add_pec_cap=True, portname=\"P2\")\n\nportnames = aedtapp.get_all_sources()\naedtapp.modeler.fit_all()"
      ]
    },
    {
      "cell_type": "markdown",
      "metadata": {},
      "source": [
        "## Create setup\nCreate a setup. A setup is created with default values. After its creation,\nyou can change values and update the setup. The ``update`` method returns a Boolean\nvalue.\n\n"
      ]
    },
    {
      "cell_type": "code",
      "execution_count": null,
      "metadata": {
        "collapsed": false
      },
      "outputs": [],
      "source": [
        "aedtapp.set_active_design(aedtapp.design_name)\nsetup = aedtapp.create_setup(\"MySetup\")\nsetup.props[\"Frequency\"] = \"1GHz\"\nsetup.props[\"BasisOrder\"] = 2\nsetup.props[\"MaximumPasses\"] = 1"
      ]
    },
    {
      "cell_type": "markdown",
      "metadata": {},
      "source": [
        "## Create sweep\nCreate a sweep. A sweep is created with default values.\n\n"
      ]
    },
    {
      "cell_type": "code",
      "execution_count": null,
      "metadata": {
        "collapsed": false
      },
      "outputs": [],
      "source": [
        "sweepname = aedtapp.create_linear_count_sweep(\"MySetup\", \"GHz\", 0.8, 1.2, 401, sweep_type=\"Interpolating\")"
      ]
    },
    {
      "cell_type": "markdown",
      "metadata": {},
      "source": [
        "## Create Icepak model\nCreate an Icepak model. After an HFSS setup is ready, link this model to an Icepak\nproject and run a coupled physics analysis. The :func:`FieldAnalysis3D.copy_solid_bodies_from`\nmethod imports a model from HFSS with all material settings.\n\n"
      ]
    },
    {
      "cell_type": "code",
      "execution_count": null,
      "metadata": {
        "collapsed": false
      },
      "outputs": [],
      "source": [
        "ipkapp = Icepak()\nipkapp.copy_solid_bodies_from(aedtapp)"
      ]
    },
    {
      "cell_type": "markdown",
      "metadata": {},
      "source": [
        "## Link sources to EM losses\nLink sources to the EM losses.\n\n"
      ]
    },
    {
      "cell_type": "code",
      "execution_count": null,
      "metadata": {
        "collapsed": false
      },
      "outputs": [],
      "source": [
        "surfaceobj = [\"inner\", \"outer\"]\nipkapp.assign_em_losses(\n    aedtapp.design_name, \"MySetup\", \"LastAdaptive\", \"1GHz\", surfaceobj, paramlist=[\"$coax_dimension\", \"inner\"]\n)"
      ]
    },
    {
      "cell_type": "markdown",
      "metadata": {},
      "source": [
        "## Edit gravity setting\nEdit the gravity setting if necessary because it is important for a fluid analysis.\n\n"
      ]
    },
    {
      "cell_type": "code",
      "execution_count": null,
      "metadata": {
        "collapsed": false
      },
      "outputs": [],
      "source": [
        "ipkapp.edit_design_settings(aedtapp.GravityDirection.ZNeg)"
      ]
    },
    {
      "cell_type": "markdown",
      "metadata": {},
      "source": [
        "## Set up Icepak project\nSet up the Icepak project. When you create a setup, default settings are applied.\nWhen you need to change a property of the setup, you can use the ``props``\ncommand to pass the correct value to the property. The ``update`` function\napplies the settings to the setup. The setup creation process is identical\nfor all tools.\n\n"
      ]
    },
    {
      "cell_type": "code",
      "execution_count": null,
      "metadata": {
        "collapsed": false
      },
      "outputs": [],
      "source": [
        "setup_ipk = ipkapp.create_setup(\"SetupIPK\")\nsetup_ipk.props[\"Convergence Criteria - Max Iterations\"] = 3"
      ]
    },
    {
      "cell_type": "markdown",
      "metadata": {},
      "source": [
        "## Edit or review mesh parameters\nEdit or review the mesh parameters. After a mesh is created, you can access\na mesh operation to edit or review parameter values.\n\n"
      ]
    },
    {
      "cell_type": "code",
      "execution_count": null,
      "metadata": {
        "collapsed": false
      },
      "outputs": [],
      "source": [
        "airbox = ipkapp.modeler.get_obj_id(\"Region\")\nipkapp.modeler[airbox].display_wireframe = True\nairfaces = ipkapp.modeler.get_object_faces(airbox)\nipkapp.assign_openings(airfaces)"
      ]
    },
    {
      "cell_type": "markdown",
      "metadata": {},
      "source": [
        "## Close and open projects\nClose and open the projects to ensure that the HFSS - Icepak coupling works\ncorrectly in AEDT versions 2019 R3 through 2021 R1. Closing and opening projects\ncan be helpful when performing operations on multiple projects.\n\n"
      ]
    },
    {
      "cell_type": "code",
      "execution_count": null,
      "metadata": {
        "collapsed": false
      },
      "outputs": [],
      "source": [
        "aedtapp.save_project()\naedtapp.close_project(aedtapp.project_name)\naedtapp = Hfss(project_file)\nipkapp = Icepak()\nipkapp.solution_type = ipkapp.SOLUTIONS.Icepak.SteadyTemperatureAndFlow\nipkapp.modeler.fit_all()"
      ]
    },
    {
      "cell_type": "markdown",
      "metadata": {},
      "source": [
        "## Solve Icepak project\nSolve the Icepak project and the HFSS sweep.\n\n"
      ]
    },
    {
      "cell_type": "code",
      "execution_count": null,
      "metadata": {
        "collapsed": false
      },
      "outputs": [],
      "source": [
        "setup1 = ipkapp.analyze_setup(\"SetupIPK\")\naedtapp.save_project()\naedtapp.modeler.fit_all()\naedtapp.analyze_setup(\"MySetup\")"
      ]
    },
    {
      "cell_type": "markdown",
      "metadata": {},
      "source": [
        "## Generate field plots and export\nGenerate field plots on the HFSS project and export them as images.\n\n"
      ]
    },
    {
      "cell_type": "code",
      "execution_count": null,
      "metadata": {
        "collapsed": false
      },
      "outputs": [],
      "source": [
        "cutlist = [GLOBALCS.XY, GLOBALCS.ZX, GLOBALCS.YZ]\nvollist = [o2.name]\nsetup_name = \"MySetup : LastAdaptive\"\nquantity_name = \"ComplexMag_E\"\nquantity_name2 = \"ComplexMag_H\"\nintrinsic = {\"Freq\": \"1GHz\", \"Phase\": \"0deg\"}\nsurflist = aedtapp.modeler.get_object_faces(\"outer\")\nplot1 = aedtapp.post.create_fieldplot_surface(surflist, quantity_name2, setup_name, intrinsic)\n\nresults_folder = os.path.join(aedtapp.working_directory, \"Coaxial_Results_NG\")\nif not os.path.exists(results_folder):\n    os.mkdir(results_folder)\n\naedtapp.post.plot_field_from_fieldplot(\n    plot1.name,\n    project_path=results_folder,\n    meshplot=False,\n    imageformat=\"jpg\",\n    view=\"isometric\",\n    show=False,\n)"
      ]
    },
    {
      "cell_type": "markdown",
      "metadata": {},
      "source": [
        "## Generate animation from field plots\nGenerate an animation from field plots using PyVista.\n\n"
      ]
    },
    {
      "cell_type": "code",
      "execution_count": null,
      "metadata": {
        "collapsed": false
      },
      "outputs": [],
      "source": [
        "import time\n\nstart = time.time()\ncutlist = [\"Global:XY\"]\nphases = [str(i * 5) + \"deg\" for i in range(18)]\nanimated = aedtapp.post.animate_fields_from_aedtplt_2(\n    quantityname=\"Mag_E\",\n    object_list=cutlist,\n    plottype=\"CutPlane\",\n    meshplot=False,\n    setup_name=aedtapp.nominal_adaptive,\n    intrinsic_dict={\"Freq\": \"1GHz\", \"Phase\": \"0deg\"},\n    project_path=results_folder,\n    variation_variable=\"Phase\",\n    variation_list=phases,\n    show=False,\n    export_gif=False,\n)\nanimated.gif_file = os.path.join(aedtapp.working_directory, \"animate.gif\")\nanimated.camera_position = [0, 50, 200]\nanimated.focal_point = [0, 50, 0]\n# Set off_screen to False to visualize the animation.\n# animated.off_screen = False\nanimated.animate()\n\nendtime = time.time() - start\nprint(\"Total Time\", endtime)"
      ]
    },
    {
      "cell_type": "markdown",
      "metadata": {},
      "source": [
        "## Create Icepak plots and export\nCreate Icepak plots and export them as images using the same functions that\nwere used early. Only the quantity is different.\n\n"
      ]
    },
    {
      "cell_type": "code",
      "execution_count": null,
      "metadata": {
        "collapsed": false
      },
      "outputs": [],
      "source": [
        "quantity_name = \"Temperature\"\nsetup_name = ipkapp.existing_analysis_sweeps[0]\nintrinsic = \"\"\nsurflist = ipkapp.modeler.get_object_faces(\"inner\")\nplot5 = ipkapp.post.create_fieldplot_surface(surflist, \"SurfTemperature\")\n\nipkapp.post.plot_field_from_fieldplot(\n    plot5.name,\n    project_path=results_folder,\n    meshplot=False,\n    imageformat=\"jpg\",\n    view=\"isometric\",\n    show=False,\n)\n\naedtapp.save_project()"
      ]
    },
    {
      "cell_type": "markdown",
      "metadata": {},
      "source": [
        "## Generate plots outside of AEDT\nGenerate plots outside of AEDT using Matplotlib and NumPy.\n\n"
      ]
    },
    {
      "cell_type": "code",
      "execution_count": null,
      "metadata": {
        "collapsed": false
      },
      "outputs": [],
      "source": [
        "trace_names = aedtapp.get_traces_for_plot(category=\"S\")\ncxt = [\"Domain:=\", \"Sweep\"]\nfamilies = [\"Freq:=\", [\"All\"]]\nmy_data = aedtapp.post.get_solution_data(expressions=trace_names)\nmy_data.plot(trace_names, \"db20\", xlabel=\"Frequency (Ghz)\", ylabel=\"SParameters(dB)\", title=\"Scattering Chart\")"
      ]
    },
    {
      "cell_type": "markdown",
      "metadata": {},
      "source": [
        "## Close project and release AEDT\nClose the project and release AEDT.\n\n"
      ]
    },
    {
      "cell_type": "code",
      "execution_count": null,
      "metadata": {
        "collapsed": false
      },
      "outputs": [],
      "source": [
        "# aedtapp.close_project(aedtapp.project_name)\naedtapp.release_desktop()"
      ]
    }
  ],
  "metadata": {
    "kernelspec": {
      "display_name": "Python 3",
      "language": "python",
      "name": "python3"
    },
    "language_info": {
      "codemirror_mode": {
        "name": "ipython",
        "version": 3
      },
      "file_extension": ".py",
      "mimetype": "text/x-python",
      "name": "python",
      "nbconvert_exporter": "python",
      "pygments_lexer": "ipython3",
      "version": "3.8.10"
    }
  },
  "nbformat": 4,
  "nbformat_minor": 0
}