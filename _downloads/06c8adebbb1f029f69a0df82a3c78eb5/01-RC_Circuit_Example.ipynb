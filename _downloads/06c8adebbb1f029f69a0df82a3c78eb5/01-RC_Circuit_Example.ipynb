{
  "cells": [
    {
      "cell_type": "code",
      "execution_count": null,
      "metadata": {
        "collapsed": false
      },
      "outputs": [],
      "source": [
        "%matplotlib inline"
      ]
    },
    {
      "cell_type": "markdown",
      "metadata": {},
      "source": [
        "\n# Twin Builder: RC circuit design anaysis\nThis example shows how you can use PyAEDT to create a Twin Builder design\nand run a Twin Builder time-domain simulation.\n"
      ]
    },
    {
      "cell_type": "markdown",
      "metadata": {},
      "source": [
        "## Perform required imports\nPerform required imports.\n\n"
      ]
    },
    {
      "cell_type": "code",
      "execution_count": null,
      "metadata": {
        "collapsed": false
      },
      "outputs": [],
      "source": [
        "import os\nfrom pyaedt import TwinBuilder\nfrom pyaedt import generate_unique_project_name"
      ]
    },
    {
      "cell_type": "markdown",
      "metadata": {},
      "source": [
        "## Select version and set launch options\nSelect the Twin Builder version and set the launch options. The following code\nlaunches Twin Builder 2022 R2 in graphical mode.\n\nYou can change the Boolean parameter ``non_graphical`` to ``True`` to launch\nTwin Builder in non-graphical mode. You can also change the Boolean parameter\n``new_thread`` to ``False`` to launch Twin Builder in an existing AEDT session\nif one is running.\n\n"
      ]
    },
    {
      "cell_type": "code",
      "execution_count": null,
      "metadata": {
        "collapsed": false
      },
      "outputs": [],
      "source": [
        "desktop_version = \"2022.2\"\n\nnon_graphical = os.getenv(\"PYAEDT_NON_GRAPHICAL\", \"False\").lower() in (\"true\", \"1\", \"t\")\nnew_thread = True"
      ]
    },
    {
      "cell_type": "markdown",
      "metadata": {},
      "source": [
        "## Launch Twin Builder\nLaunch Twin Builder using an implicit declaration and add a new design with\na default setup.\n\n"
      ]
    },
    {
      "cell_type": "code",
      "execution_count": null,
      "metadata": {
        "collapsed": false
      },
      "outputs": [],
      "source": [
        "tb = TwinBuilder(projectname=generate_unique_project_name(), specified_version=desktop_version, non_graphical=non_graphical, new_desktop_session=new_thread)"
      ]
    },
    {
      "cell_type": "markdown",
      "metadata": {},
      "source": [
        "## Create components for RC circuit\nCreate components for an RC circuit driven by a pulse voltage source. Define\nthe grid distance for ease in calculations.\n\n"
      ]
    },
    {
      "cell_type": "code",
      "execution_count": null,
      "metadata": {
        "collapsed": false
      },
      "outputs": [],
      "source": [
        "G = 0.00254\n\n# Create components, such as a voltage source, resistor, and capacitor.\n\nsource = tb.modeler.schematic.create_voltage_source(\"E1\", \"EPULSE\", 10, 10, [0, 0])\nresistor = tb.modeler.schematic.create_resistor(\"R1\", 10000, [10 * G, 10 * G], 90)\ncapacitor = tb.modeler.schematic.create_capacitor(\"C1\", 1e-6, [20 * G, 0])"
      ]
    },
    {
      "cell_type": "markdown",
      "metadata": {},
      "source": [
        "## Create ground\nCreate a ground, which is needed for an analog analysis.\n\n"
      ]
    },
    {
      "cell_type": "code",
      "execution_count": null,
      "metadata": {
        "collapsed": false
      },
      "outputs": [],
      "source": [
        "gnd = tb.modeler.components.create_gnd([0, -10 * G])"
      ]
    },
    {
      "cell_type": "markdown",
      "metadata": {},
      "source": [
        "## Connect components\nConnects components with pins.\n\n"
      ]
    },
    {
      "cell_type": "code",
      "execution_count": null,
      "metadata": {
        "collapsed": false
      },
      "outputs": [],
      "source": [
        "source.pins[1].connect_to_component(resistor.pins[0])\nresistor.pins[1].connect_to_component(capacitor.pins[0])\ncapacitor.pins[1].connect_to_component(source.pins[0])\nsource.pins[0].connect_to_component(gnd.pins[0])"
      ]
    },
    {
      "cell_type": "markdown",
      "metadata": {},
      "source": [
        "## Parametrize transient setup\nParametrize the default transient setup by setting the end time.\n\n"
      ]
    },
    {
      "cell_type": "code",
      "execution_count": null,
      "metadata": {
        "collapsed": false
      },
      "outputs": [],
      "source": [
        "tb.set_end_time(\"300ms\")"
      ]
    },
    {
      "cell_type": "markdown",
      "metadata": {},
      "source": [
        "## Solve transient setup\nSolve the transient setup.\n\n"
      ]
    },
    {
      "cell_type": "code",
      "execution_count": null,
      "metadata": {
        "collapsed": false
      },
      "outputs": [],
      "source": [
        "tb.analyze_setup(\"TR\")"
      ]
    },
    {
      "cell_type": "markdown",
      "metadata": {},
      "source": [
        "## Get report data and plot using Matplotlib\nGet report data and plot it using Matplotlib. The following code gets and plots\nthe values for the voltage on the pulse voltage source and the values for the\nvoltage on the capacitor in the RC circuit.\n\n"
      ]
    },
    {
      "cell_type": "code",
      "execution_count": null,
      "metadata": {
        "collapsed": false
      },
      "outputs": [],
      "source": [
        "E_Value = \"E1.V\"\nC_Value = \"C1.V\"\n\nx = tb.post.get_solution_data([E_Value, C_Value], \"TR\", \"Time\")\nx.plot([E_Value, C_Value], xlabel=\"Time\", ylabel=\"Capacitor Voltage vs Input Pulse\")\n\ntb.save_project()"
      ]
    },
    {
      "cell_type": "markdown",
      "metadata": {},
      "source": [
        "## Close Twin Builder\nAfter the simulation completes, you can close Twin Builder or release it.\nAll methods provide for saving the project before closing.\n\n"
      ]
    },
    {
      "cell_type": "code",
      "execution_count": null,
      "metadata": {
        "collapsed": false
      },
      "outputs": [],
      "source": [
        "if os.name != \"posix\":\n    tb.release_desktop()"
      ]
    }
  ],
  "metadata": {
    "kernelspec": {
      "display_name": "Python 3",
      "language": "python",
      "name": "python3"
    },
    "language_info": {
      "codemirror_mode": {
        "name": "ipython",
        "version": 3
      },
      "file_extension": ".py",
      "mimetype": "text/x-python",
      "name": "python",
      "nbconvert_exporter": "python",
      "pygments_lexer": "ipython3",
      "version": "3.8.10"
    }
  },
  "nbformat": 4,
  "nbformat_minor": 0
}