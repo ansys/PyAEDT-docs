{
  "cells": [
    {
      "cell_type": "code",
      "execution_count": null,
      "metadata": {
        "collapsed": false
      },
      "outputs": [],
      "source": [
        "%matplotlib inline"
      ]
    },
    {
      "cell_type": "markdown",
      "metadata": {},
      "source": [
        "\n# Circuit: schematic creation and analysis\nThis example shows how you can use PyAEDT to create a circuit design\nand run a Nexxim time-domain simulation.\n"
      ]
    },
    {
      "cell_type": "markdown",
      "metadata": {},
      "source": [
        "## Perform required imports\nPerform required imports.\n\n"
      ]
    },
    {
      "cell_type": "code",
      "execution_count": null,
      "metadata": {
        "collapsed": false
      },
      "outputs": [],
      "source": [
        "# sphinx_gallery_thumbnail_path = 'Resources/circuit.png'\n\nfrom pyaedt import Circuit\nfrom pyaedt import Desktop\nfrom pyaedt import generate_unique_project_name\nimport os"
      ]
    },
    {
      "cell_type": "markdown",
      "metadata": {},
      "source": [
        "## Launch AEDT\nLaunch AEDT 2022 R2 in graphical mode. This example uses SI units.\n\n"
      ]
    },
    {
      "cell_type": "code",
      "execution_count": null,
      "metadata": {
        "collapsed": false
      },
      "outputs": [],
      "source": [
        "desktop_version = \"2022.2\""
      ]
    },
    {
      "cell_type": "markdown",
      "metadata": {},
      "source": [
        "## Set non-graphical mode\nSet non-graphical mode. ``\"PYAEDT_NON_GRAPHICAL\"`` is needed to generate\ndocumentation only.\nYou can set ``non_graphical`` either to ``True`` or ``False``.\nThe Boolean parameter ``new_thread`` defines whether to create a new instance\nof AEDT or try to connect to an existing instance of it.\n\n"
      ]
    },
    {
      "cell_type": "code",
      "execution_count": null,
      "metadata": {
        "collapsed": false
      },
      "outputs": [],
      "source": [
        "non_graphical = os.getenv(\"PYAEDT_NON_GRAPHICAL\", \"False\").lower() in (\"true\", \"1\", \"t\")\nnew_thread = True"
      ]
    },
    {
      "cell_type": "markdown",
      "metadata": {},
      "source": [
        "## Launch AEDT and Circuit\nLaunch AEDT and Circuit. The :class:`pyaedt.Desktop` class initializes AEDT and\nstarts the specified version in the specified mode.\n\n"
      ]
    },
    {
      "cell_type": "code",
      "execution_count": null,
      "metadata": {
        "collapsed": false
      },
      "outputs": [],
      "source": [
        "desktop = Desktop(desktop_version, non_graphical, new_thread)\naedt_app = Circuit(projectname=generate_unique_project_name())"
      ]
    },
    {
      "cell_type": "markdown",
      "metadata": {},
      "source": [
        "## Create circuit setup\nCreate and customize an LNA (linear network analysis) setup.\n\n"
      ]
    },
    {
      "cell_type": "code",
      "execution_count": null,
      "metadata": {
        "collapsed": false
      },
      "outputs": [],
      "source": [
        "setup1 = aedt_app.create_setup(\"MyLNA\")\nsetup1.props[\"SweepDefinition\"][\"Data\"] = \"LINC 0GHz 4GHz 10001\""
      ]
    },
    {
      "cell_type": "markdown",
      "metadata": {},
      "source": [
        "## Create components\nCreate components, such as an inductor, resistor, and capacitor.\n\n"
      ]
    },
    {
      "cell_type": "code",
      "execution_count": null,
      "metadata": {
        "collapsed": false
      },
      "outputs": [],
      "source": [
        "inductor = aedt_app.modeler.schematic.create_inductor(\"L1\", 1e-9, [0, 0])\nresistor = aedt_app.modeler.schematic.create_resistor(\"R1\", 50, [0.0254, 0])\ncapacitor = aedt_app.modeler.schematic.create_capacitor(\"C1\", 1e-12)"
      ]
    },
    {
      "cell_type": "markdown",
      "metadata": {},
      "source": [
        "## Get all pins\nGet all pins of a specified component.\n\n"
      ]
    },
    {
      "cell_type": "code",
      "execution_count": null,
      "metadata": {
        "collapsed": false
      },
      "outputs": [],
      "source": [
        "pins_resistor = resistor.pins"
      ]
    },
    {
      "cell_type": "markdown",
      "metadata": {},
      "source": [
        "## Create port and ground\nCreate a port and a ground, which are needed for the circuit analysis.\n\n"
      ]
    },
    {
      "cell_type": "code",
      "execution_count": null,
      "metadata": {
        "collapsed": false
      },
      "outputs": [],
      "source": [
        "port = aedt_app.modeler.components.create_interface_port(\"myport\")\ngnd = aedt_app.modeler.components.create_gnd()"
      ]
    },
    {
      "cell_type": "markdown",
      "metadata": {},
      "source": [
        "## Connect components\nConnect components with wires.\n\n"
      ]
    },
    {
      "cell_type": "code",
      "execution_count": null,
      "metadata": {
        "collapsed": false
      },
      "outputs": [],
      "source": [
        "port.pins[0].connect_to_component(inductor.pins[0])\ninductor.pins[1].connect_to_component(resistor.pins[0])\nresistor.pins[1].connect_to_component(capacitor.pins[0])\ncapacitor.pins[1].connect_to_component(gnd.pins[0])"
      ]
    },
    {
      "cell_type": "markdown",
      "metadata": {},
      "source": [
        "## Create transient setup\nCreate a transient setup.\n\n"
      ]
    },
    {
      "cell_type": "code",
      "execution_count": null,
      "metadata": {
        "collapsed": false
      },
      "outputs": [],
      "source": [
        "setup2 = aedt_app.create_setup(\"MyTransient\", aedt_app.SETUPS.NexximTransient)\nsetup2.props[\"TransientData\"] = [\"0.01ns\", \"200ns\"]\nsetup3 = aedt_app.create_setup(\"MyDC\", aedt_app.SETUPS.NexximDC)"
      ]
    },
    {
      "cell_type": "markdown",
      "metadata": {},
      "source": [
        "## Solve transient setup\nSolve the transient setup.\n\n"
      ]
    },
    {
      "cell_type": "code",
      "execution_count": null,
      "metadata": {
        "collapsed": false
      },
      "outputs": [],
      "source": [
        "aedt_app.analyze_setup(\"MyLNA\")\n\naedt_app.export_fullwave_spice()"
      ]
    },
    {
      "cell_type": "markdown",
      "metadata": {},
      "source": [
        "## Create report\nCreate a report that plots solution data.\n\n"
      ]
    },
    {
      "cell_type": "code",
      "execution_count": null,
      "metadata": {
        "collapsed": false
      },
      "outputs": [],
      "source": [
        "solutions = aedt_app.post.get_solution_data(\n    expressions=aedt_app.get_traces_for_plot(category=\"S\"),\n)\nsolutions.enable_pandas_output = True\nreal, imag = solutions.full_matrix_real_imag\nprint(real)"
      ]
    },
    {
      "cell_type": "markdown",
      "metadata": {},
      "source": [
        "## Plot data\nCreate a plot based on solution data.\n\n"
      ]
    },
    {
      "cell_type": "code",
      "execution_count": null,
      "metadata": {
        "collapsed": false
      },
      "outputs": [],
      "source": [
        "fig = solutions.plot()"
      ]
    },
    {
      "cell_type": "markdown",
      "metadata": {},
      "source": [
        "## Close AEDT\nAfter the simulation completes, you can close AEDT or release it using the\n:func:`pyaedt.Desktop.force_close_desktop` method.\nAll methods provide for saving the project before closing.\n\n"
      ]
    },
    {
      "cell_type": "code",
      "execution_count": null,
      "metadata": {
        "collapsed": false
      },
      "outputs": [],
      "source": [
        "if os.name != \"posix\":\n    desktop.release_desktop()"
      ]
    }
  ],
  "metadata": {
    "kernelspec": {
      "display_name": "Python 3",
      "language": "python",
      "name": "python3"
    },
    "language_info": {
      "codemirror_mode": {
        "name": "ipython",
        "version": 3
      },
      "file_extension": ".py",
      "mimetype": "text/x-python",
      "name": "python",
      "nbconvert_exporter": "python",
      "pygments_lexer": "ipython3",
      "version": "3.8.10"
    }
  },
  "nbformat": 4,
  "nbformat_minor": 0
}