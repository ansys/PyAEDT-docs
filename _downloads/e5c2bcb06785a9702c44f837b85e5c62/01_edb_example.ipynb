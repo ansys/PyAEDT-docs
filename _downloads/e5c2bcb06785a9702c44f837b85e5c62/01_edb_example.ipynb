{
  "cells": [
    {
      "cell_type": "code",
      "execution_count": null,
      "metadata": {
        "collapsed": false
      },
      "outputs": [],
      "source": [
        "%matplotlib inline"
      ]
    },
    {
      "cell_type": "markdown",
      "metadata": {},
      "source": [
        "\n# EDB: Siwave analysis from EDB setup\nThis example shows how you can use EDB to interact with a layout.\n"
      ]
    },
    {
      "cell_type": "markdown",
      "metadata": {},
      "source": [
        "## Perform required imports\nPerform required imports.\n\n"
      ]
    },
    {
      "cell_type": "code",
      "execution_count": null,
      "metadata": {
        "collapsed": false
      },
      "outputs": [],
      "source": [
        "import shutil\n\nimport os\nimport time\nfrom pyaedt import examples, generate_unique_folder_name\n\ntemp_folder = generate_unique_folder_name()\nexample_path = examples.download_aedb(temp_folder)\n\ntargetfile = os.path.dirname(example_path)\n\nsiwave_file = os.path.join(os.path.dirname(targetfile), \"Galileo.siw\")\nprint(targetfile)\naedt_file = targetfile[:-4] + \"aedt\"\n\nfrom pyaedt import Edb"
      ]
    },
    {
      "cell_type": "markdown",
      "metadata": {},
      "source": [
        "## Launch EDB\nLaunch the :class:`pyaedt.Edb` class, using EDB 2022 R2 and SI units.\n\n"
      ]
    },
    {
      "cell_type": "code",
      "execution_count": null,
      "metadata": {
        "collapsed": false
      },
      "outputs": [],
      "source": [
        "if os.path.exists(aedt_file):\n    os.remove(aedt_file)\nedb = Edb(edbpath=targetfile, edbversion=\"2022.2\")"
      ]
    },
    {
      "cell_type": "markdown",
      "metadata": {},
      "source": [
        "## Compute nets and components\nComputes nets and components.\nThere are queries for nets, stackups, layers, components, and geometries.\n\n"
      ]
    },
    {
      "cell_type": "code",
      "execution_count": null,
      "metadata": {
        "collapsed": false
      },
      "outputs": [],
      "source": [
        "print(\"Nets {}\".format(len(edb.core_nets.nets.keys())))\nstart = time.time()\nprint(\"Components {}\".format(len(edb.core_components.components.keys())))\nprint(\"elapsed time = \", time.time() - start)"
      ]
    },
    {
      "cell_type": "markdown",
      "metadata": {},
      "source": [
        "## Get pin position\nGet the position for a specific pin.\nThe next section shows how to get all pins for a specific component and\nthe positions of each of them.\nEach pin is a list of ``[X, Y]`` coordinate positions.\n\n"
      ]
    },
    {
      "cell_type": "code",
      "execution_count": null,
      "metadata": {
        "collapsed": false
      },
      "outputs": [],
      "source": [
        "pins = edb.core_components.get_pin_from_component(\"U2\")\nfor pin in pins:\n    print(edb.core_components.get_pin_position(pin))"
      ]
    },
    {
      "cell_type": "markdown",
      "metadata": {},
      "source": [
        "## Get all nets connected to a component\nGet all nets connected to a specific component.\n\n"
      ]
    },
    {
      "cell_type": "code",
      "execution_count": null,
      "metadata": {
        "collapsed": false
      },
      "outputs": [],
      "source": [
        "edb.core_components.get_component_net_connection_info(\"U2\")"
      ]
    },
    {
      "cell_type": "markdown",
      "metadata": {},
      "source": [
        "## Compute rats\nComputes rats.\n\n"
      ]
    },
    {
      "cell_type": "code",
      "execution_count": null,
      "metadata": {
        "collapsed": false
      },
      "outputs": [],
      "source": [
        "rats = edb.core_components.get_rats()"
      ]
    },
    {
      "cell_type": "markdown",
      "metadata": {},
      "source": [
        "## Get all DC-connected net lists through inductance\nGet all DC-connected net lists through inductance.\nThe inputs needed are ground net lists. The returned list contains all nets\nconnected to a ground through an inductor.\n\n"
      ]
    },
    {
      "cell_type": "code",
      "execution_count": null,
      "metadata": {
        "collapsed": false
      },
      "outputs": [],
      "source": [
        "GROUND_NETS = [\"GND\", \"PGND\"]\ndc_connected_net_list = edb.core_nets.get_dcconnected_net_list(GROUND_NETS)\nprint(dc_connected_net_list)"
      ]
    },
    {
      "cell_type": "markdown",
      "metadata": {},
      "source": [
        "## Get power tree based on a specific net\nGet the power tree based on a specific net.\n\n"
      ]
    },
    {
      "cell_type": "code",
      "execution_count": null,
      "metadata": {
        "collapsed": false
      },
      "outputs": [],
      "source": [
        "VRM = \"U3A1\"\nOUTPUT_NET = \"BST_V1P0_S0\"\npowertree_df, component_list_columns, net_group = edb.core_nets.get_powertree(OUTPUT_NET, GROUND_NETS)\nfor el in powertree_df:\n    print(el)"
      ]
    },
    {
      "cell_type": "markdown",
      "metadata": {},
      "source": [
        "## Delete all RLCs with only one pin\nDelete all RLCs with only one pin. This method provides a useful way of\nremoving components not needed in the simulation.\n\n"
      ]
    },
    {
      "cell_type": "code",
      "execution_count": null,
      "metadata": {
        "collapsed": false
      },
      "outputs": [],
      "source": [
        "edb.core_components.delete_single_pin_rlc()"
      ]
    },
    {
      "cell_type": "markdown",
      "metadata": {},
      "source": [
        "## Delete components\nDelete manually one or more components.\n\n"
      ]
    },
    {
      "cell_type": "code",
      "execution_count": null,
      "metadata": {
        "collapsed": false
      },
      "outputs": [],
      "source": [
        "edb.core_components.delete_component(\"C3B17\")"
      ]
    },
    {
      "cell_type": "markdown",
      "metadata": {},
      "source": [
        "## Delete nets\nDelete manually one or more nets.\n\n"
      ]
    },
    {
      "cell_type": "code",
      "execution_count": null,
      "metadata": {
        "collapsed": false
      },
      "outputs": [],
      "source": [
        "edb.core_nets.delete_nets(\"A0_N\")"
      ]
    },
    {
      "cell_type": "markdown",
      "metadata": {},
      "source": [
        "## Get stackup limits\nGet the stackup limits (top and bottom layers and elevations).\n\n"
      ]
    },
    {
      "cell_type": "code",
      "execution_count": null,
      "metadata": {
        "collapsed": false
      },
      "outputs": [],
      "source": [
        "print(edb.core_stackup.stackup_limits())"
      ]
    },
    {
      "cell_type": "markdown",
      "metadata": {},
      "source": [
        "## Create coaxial port\nCreate a coaxial port for the HFSS simulation.\n\n"
      ]
    },
    {
      "cell_type": "code",
      "execution_count": null,
      "metadata": {
        "collapsed": false
      },
      "outputs": [],
      "source": [
        "edb.core_hfss.create_coax_port_on_component(\"U2A5\", \"V1P0_S0\")"
      ]
    },
    {
      "cell_type": "markdown",
      "metadata": {},
      "source": [
        "## Edit stackup layers and material\nEdit the stackup layers and material. You can change stackup layer\nproperties with assignment and create materials and assign them to layers.\n\n"
      ]
    },
    {
      "cell_type": "code",
      "execution_count": null,
      "metadata": {
        "collapsed": false
      },
      "outputs": [],
      "source": [
        "edb.core_stackup.stackup_layers.layers[\"TOP\"].thickness = \"75um\"\n# edb.core_stackup.stackup_layers.layers[\"Diel1\"].material_name = \"Fr4_epoxy\"\nedb.core_stackup.create_debye_material(\"My_Debye\", 5, 3, 0.02, 0.05, 1e5, 1e9)\n# edb.core_stackup.stackup_layers.layers['BOTTOM'].material_name = \"My_Debye\"\n# edb.core_stackup.stackup_layers.remove_layer(\"Signal3\")\n# edb.core_stackup.stackup_layers.remove_layer(\"Signal1\")"
      ]
    },
    {
      "cell_type": "markdown",
      "metadata": {},
      "source": [
        "## Create voltage source and Siwave DCIR analysis\nCreate a voltage source and then set up a DCIR analysis.\n\n"
      ]
    },
    {
      "cell_type": "code",
      "execution_count": null,
      "metadata": {
        "collapsed": false
      },
      "outputs": [],
      "source": [
        "edb.core_siwave.create_voltage_source_on_net(\"U2A5\", \"V1P5_S3\", \"U2A5\", \"GND\", 3.3, 0, \"V1\")\nedb.core_siwave.create_current_source_on_net(\"U1B5\", \"V1P5_S3\", \"U1B5\", \"GND\", 1.0, 0, \"I1\")\nsetup = edb.core_siwave.add_siwave_dc_analysis(\"myDCIR_4\")\nsetup.use_dc_custom_settings = True\nsetup.dc_slider_position = 0\nsetup.add_source_terminal_to_ground(\"V1\", 1)"
      ]
    },
    {
      "cell_type": "markdown",
      "metadata": {},
      "source": [
        "## Save modifications\nSave modifications.\n\n"
      ]
    },
    {
      "cell_type": "code",
      "execution_count": null,
      "metadata": {
        "collapsed": false
      },
      "outputs": [],
      "source": [
        "edb.save_edb()\nedb.core_nets.plot(None, \"TOP\")\n\nsiw_file = edb.solve_siwave()"
      ]
    },
    {
      "cell_type": "markdown",
      "metadata": {},
      "source": [
        "## Export Siwave Reports\nExport all DC Reports quantities.\n\n"
      ]
    },
    {
      "cell_type": "code",
      "execution_count": null,
      "metadata": {
        "collapsed": false
      },
      "outputs": [],
      "source": [
        "outputs = edb.export_siwave_dc_results(siw_file, setup.name, )"
      ]
    },
    {
      "cell_type": "markdown",
      "metadata": {},
      "source": [
        "## Close EDB\nClose EDB. After EDB is closed, it can be opened by AEDT.\n\n"
      ]
    },
    {
      "cell_type": "code",
      "execution_count": null,
      "metadata": {
        "collapsed": false
      },
      "outputs": [],
      "source": [
        "edb.close_edb()"
      ]
    },
    {
      "cell_type": "markdown",
      "metadata": {},
      "source": [
        "## Postprocess in Siwave\nOpen Siwave and generate a report. This works on Window only.\n\n"
      ]
    },
    {
      "cell_type": "code",
      "execution_count": null,
      "metadata": {
        "collapsed": false
      },
      "outputs": [],
      "source": [
        "# from pyaedt import Siwave\n# siwave = Siwave(\"2022.2\")\n# siwave.open_project(siwave_file)\n# report_file = os.path.join(temp_folder,'Galileo.htm')\n#\n# siwave.export_siwave_report(\"myDCIR_4\", report_file)\n# siwave.close_project()\n# siwave.quit_application()"
      ]
    }
  ],
  "metadata": {
    "kernelspec": {
      "display_name": "Python 3",
      "language": "python",
      "name": "python3"
    },
    "language_info": {
      "codemirror_mode": {
        "name": "ipython",
        "version": 3
      },
      "file_extension": ".py",
      "mimetype": "text/x-python",
      "name": "python",
      "nbconvert_exporter": "python",
      "pygments_lexer": "ipython3",
      "version": "3.8.10"
    }
  },
  "nbformat": 4,
  "nbformat_minor": 0
}